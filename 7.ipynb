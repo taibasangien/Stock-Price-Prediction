{
 "cells": [
  {
   "cell_type": "markdown",
   "metadata": {
    "id": "X-SYBi4z8Vi3"
   },
   "source": [
    "## Problem Statement:Create a hybrid model for stock price/performance prediction using numerical analysis of historical stock prices.\n"
   ]
  },
  {
   "cell_type": "markdown",
   "metadata": {
    "id": "iz0cxhzD8Vi4"
   },
   "source": [
    "### Reading Data From Yahoo"
   ]
  },
  {
   "cell_type": "code",
   "execution_count": null,
   "metadata": {
    "id": "OvEBkdcN8Vi8",
    "scrolled": false
   },
   "outputs": [],
   "source": [
    "import pandas as pd\n",
    "import numpy as np\n",
    "import matplotlib.pyplot as plt\n",
    "import pandas_datareader as pdr\n",
    "import tensorflow as tf\n",
    "import math\n",
    "from sklearn.metrics import mean_squared_error\n",
    "from sklearn.preprocessing import MinMaxScaler\n",
    "from tensorflow.keras.models import Sequential\n",
    "from tensorflow.keras.layers import Dense\n",
    "from tensorflow.keras.layers import LSTM"
   ]
  },
  {
   "cell_type": "code",
   "execution_count": null,
   "metadata": {
    "colab": {
     "base_uri": "https://localhost:8080/",
     "height": 35
    },
    "id": "R9lJCBpD8Vi9",
    "outputId": "6bf45ba6-08b1-48b4-f759-61bda2193e16"
   },
   "outputs": [
    {
     "data": {
      "application/vnd.google.colaboratory.intrinsic+json": {
       "type": "string"
      },
      "text/plain": [
       "'2.4.0'"
      ]
     },
     "execution_count": 2,
     "metadata": {
      "tags": []
     },
     "output_type": "execute_result"
    }
   ],
   "source": [
    "tf.__version__"
   ]
  },
  {
   "cell_type": "code",
   "execution_count": null,
   "metadata": {
    "id": "leEzhE7P8Vi-",
    "scrolled": false
   },
   "outputs": [],
   "source": [
    "df=pdr.DataReader(\"^BSESN\" , data_source='yahoo', start='1997-10-10',end='2020-10-10')"
   ]
  },
  {
   "cell_type": "code",
   "execution_count": null,
   "metadata": {
    "id": "hYStycAJ8Vi-"
   },
   "outputs": [],
   "source": [
    "df.to_csv('^BSESN.csv')"
   ]
  },
  {
   "cell_type": "code",
   "execution_count": null,
   "metadata": {
    "id": "_CxmeHAz8Vi_",
    "scrolled": true
   },
   "outputs": [],
   "source": [
    "df=pd.read_csv('^BSESN.csv')"
   ]
  },
  {
   "cell_type": "code",
   "execution_count": null,
   "metadata": {
    "colab": {
     "base_uri": "https://localhost:8080/",
     "height": 204
    },
    "id": "u41CSoYU8VjB",
    "outputId": "d8dfa52c-ccdb-48ec-acdf-dd37ec92d4f8"
   },
   "outputs": [
    {
     "data": {
      "text/html": [
       "<div>\n",
       "<style scoped>\n",
       "    .dataframe tbody tr th:only-of-type {\n",
       "        vertical-align: middle;\n",
       "    }\n",
       "\n",
       "    .dataframe tbody tr th {\n",
       "        vertical-align: top;\n",
       "    }\n",
       "\n",
       "    .dataframe thead th {\n",
       "        text-align: right;\n",
       "    }\n",
       "</style>\n",
       "<table border=\"1\" class=\"dataframe\">\n",
       "  <thead>\n",
       "    <tr style=\"text-align: right;\">\n",
       "      <th></th>\n",
       "      <th>Date</th>\n",
       "      <th>High</th>\n",
       "      <th>Low</th>\n",
       "      <th>Open</th>\n",
       "      <th>Close</th>\n",
       "      <th>Volume</th>\n",
       "      <th>Adj Close</th>\n",
       "    </tr>\n",
       "  </thead>\n",
       "  <tbody>\n",
       "    <tr>\n",
       "      <th>0</th>\n",
       "      <td>1997-10-10</td>\n",
       "      <td>4083.989990</td>\n",
       "      <td>3999.649902</td>\n",
       "      <td>3999.649902</td>\n",
       "      <td>4057.370117</td>\n",
       "      <td>0.0</td>\n",
       "      <td>4057.370117</td>\n",
       "    </tr>\n",
       "    <tr>\n",
       "      <th>1</th>\n",
       "      <td>1997-10-13</td>\n",
       "      <td>4118.919922</td>\n",
       "      <td>4056.479980</td>\n",
       "      <td>4093.919922</td>\n",
       "      <td>4066.050049</td>\n",
       "      <td>0.0</td>\n",
       "      <td>4066.050049</td>\n",
       "    </tr>\n",
       "    <tr>\n",
       "      <th>2</th>\n",
       "      <td>1997-10-14</td>\n",
       "      <td>4062.810059</td>\n",
       "      <td>4011.110107</td>\n",
       "      <td>4061.510010</td>\n",
       "      <td>4012.399902</td>\n",
       "      <td>0.0</td>\n",
       "      <td>4012.399902</td>\n",
       "    </tr>\n",
       "    <tr>\n",
       "      <th>3</th>\n",
       "      <td>1997-10-15</td>\n",
       "      <td>4042.689941</td>\n",
       "      <td>3999.139893</td>\n",
       "      <td>4015.550049</td>\n",
       "      <td>4034.550049</td>\n",
       "      <td>0.0</td>\n",
       "      <td>4034.550049</td>\n",
       "    </tr>\n",
       "    <tr>\n",
       "      <th>4</th>\n",
       "      <td>1997-10-16</td>\n",
       "      <td>4090.510010</td>\n",
       "      <td>4046.469971</td>\n",
       "      <td>4082.659912</td>\n",
       "      <td>4077.050049</td>\n",
       "      <td>0.0</td>\n",
       "      <td>4077.050049</td>\n",
       "    </tr>\n",
       "  </tbody>\n",
       "</table>\n",
       "</div>"
      ],
      "text/plain": [
       "         Date         High          Low  ...        Close  Volume    Adj Close\n",
       "0  1997-10-10  4083.989990  3999.649902  ...  4057.370117     0.0  4057.370117\n",
       "1  1997-10-13  4118.919922  4056.479980  ...  4066.050049     0.0  4066.050049\n",
       "2  1997-10-14  4062.810059  4011.110107  ...  4012.399902     0.0  4012.399902\n",
       "3  1997-10-15  4042.689941  3999.139893  ...  4034.550049     0.0  4034.550049\n",
       "4  1997-10-16  4090.510010  4046.469971  ...  4077.050049     0.0  4077.050049\n",
       "\n",
       "[5 rows x 7 columns]"
      ]
     },
     "execution_count": 6,
     "metadata": {
      "tags": []
     },
     "output_type": "execute_result"
    }
   ],
   "source": [
    "df.head()"
   ]
  },
  {
   "cell_type": "code",
   "execution_count": null,
   "metadata": {
    "colab": {
     "base_uri": "https://localhost:8080/",
     "height": 204
    },
    "id": "SCxghVko8VjC",
    "outputId": "2fe85b2b-e197-4489-b1ec-8ffeced2452b",
    "scrolled": true
   },
   "outputs": [
    {
     "data": {
      "text/html": [
       "<div>\n",
       "<style scoped>\n",
       "    .dataframe tbody tr th:only-of-type {\n",
       "        vertical-align: middle;\n",
       "    }\n",
       "\n",
       "    .dataframe tbody tr th {\n",
       "        vertical-align: top;\n",
       "    }\n",
       "\n",
       "    .dataframe thead th {\n",
       "        text-align: right;\n",
       "    }\n",
       "</style>\n",
       "<table border=\"1\" class=\"dataframe\">\n",
       "  <thead>\n",
       "    <tr style=\"text-align: right;\">\n",
       "      <th></th>\n",
       "      <th>Date</th>\n",
       "      <th>High</th>\n",
       "      <th>Low</th>\n",
       "      <th>Open</th>\n",
       "      <th>Close</th>\n",
       "      <th>Volume</th>\n",
       "      <th>Adj Close</th>\n",
       "    </tr>\n",
       "  </thead>\n",
       "  <tbody>\n",
       "    <tr>\n",
       "      <th>5655</th>\n",
       "      <td>2020-10-05</td>\n",
       "      <td>39263.851562</td>\n",
       "      <td>38819.890625</td>\n",
       "      <td>38956.781250</td>\n",
       "      <td>38973.699219</td>\n",
       "      <td>15500.0</td>\n",
       "      <td>38973.699219</td>\n",
       "    </tr>\n",
       "    <tr>\n",
       "      <th>5656</th>\n",
       "      <td>2020-10-06</td>\n",
       "      <td>39623.761719</td>\n",
       "      <td>39191.101562</td>\n",
       "      <td>39336.339844</td>\n",
       "      <td>39574.570312</td>\n",
       "      <td>11300.0</td>\n",
       "      <td>39574.570312</td>\n",
       "    </tr>\n",
       "    <tr>\n",
       "      <th>5657</th>\n",
       "      <td>2020-10-07</td>\n",
       "      <td>39968.039062</td>\n",
       "      <td>39450.820312</td>\n",
       "      <td>39633.191406</td>\n",
       "      <td>39878.949219</td>\n",
       "      <td>15000.0</td>\n",
       "      <td>39878.949219</td>\n",
       "    </tr>\n",
       "    <tr>\n",
       "      <th>5658</th>\n",
       "      <td>2020-10-08</td>\n",
       "      <td>40468.878906</td>\n",
       "      <td>40062.230469</td>\n",
       "      <td>40204.320312</td>\n",
       "      <td>40182.671875</td>\n",
       "      <td>14400.0</td>\n",
       "      <td>40182.671875</td>\n",
       "    </tr>\n",
       "    <tr>\n",
       "      <th>5659</th>\n",
       "      <td>2020-10-09</td>\n",
       "      <td>40585.359375</td>\n",
       "      <td>40066.539062</td>\n",
       "      <td>40226.250000</td>\n",
       "      <td>40509.488281</td>\n",
       "      <td>16600.0</td>\n",
       "      <td>40509.488281</td>\n",
       "    </tr>\n",
       "  </tbody>\n",
       "</table>\n",
       "</div>"
      ],
      "text/plain": [
       "            Date          High  ...   Volume     Adj Close\n",
       "5655  2020-10-05  39263.851562  ...  15500.0  38973.699219\n",
       "5656  2020-10-06  39623.761719  ...  11300.0  39574.570312\n",
       "5657  2020-10-07  39968.039062  ...  15000.0  39878.949219\n",
       "5658  2020-10-08  40468.878906  ...  14400.0  40182.671875\n",
       "5659  2020-10-09  40585.359375  ...  16600.0  40509.488281\n",
       "\n",
       "[5 rows x 7 columns]"
      ]
     },
     "execution_count": 7,
     "metadata": {
      "tags": []
     },
     "output_type": "execute_result"
    }
   ],
   "source": [
    "df.tail()"
   ]
  },
  {
   "cell_type": "code",
   "execution_count": null,
   "metadata": {
    "colab": {
     "base_uri": "https://localhost:8080/"
    },
    "id": "sDoLlP5N8VjD",
    "outputId": "ae114c31-fd9d-4f62-af02-de19c8fac980"
   },
   "outputs": [
    {
     "name": "stdout",
     "output_type": "stream",
     "text": [
      "<class 'pandas.core.frame.DataFrame'>\n",
      "RangeIndex: 5660 entries, 0 to 5659\n",
      "Data columns (total 7 columns):\n",
      " #   Column     Non-Null Count  Dtype  \n",
      "---  ------     --------------  -----  \n",
      " 0   Date       5660 non-null   object \n",
      " 1   High       5660 non-null   float64\n",
      " 2   Low        5660 non-null   float64\n",
      " 3   Open       5660 non-null   float64\n",
      " 4   Close      5660 non-null   float64\n",
      " 5   Volume     5660 non-null   float64\n",
      " 6   Adj Close  5660 non-null   float64\n",
      "dtypes: float64(6), object(1)\n",
      "memory usage: 309.7+ KB\n"
     ]
    }
   ],
   "source": [
    "df.info()"
   ]
  },
  {
   "cell_type": "code",
   "execution_count": null,
   "metadata": {
    "id": "ajZQZBq_8VjD"
   },
   "outputs": [],
   "source": [
    "df1=df['Close']"
   ]
  },
  {
   "cell_type": "code",
   "execution_count": null,
   "metadata": {
    "colab": {
     "base_uri": "https://localhost:8080/"
    },
    "id": "LNwLMZW28VjE",
    "outputId": "3df36fd9-bea4-4747-8f14-a52979c8e272"
   },
   "outputs": [
    {
     "data": {
      "text/plain": [
       "(5660,)"
      ]
     },
     "execution_count": 10,
     "metadata": {
      "tags": []
     },
     "output_type": "execute_result"
    }
   ],
   "source": [
    "df1.shape"
   ]
  },
  {
   "cell_type": "code",
   "execution_count": null,
   "metadata": {
    "colab": {
     "base_uri": "https://localhost:8080/",
     "height": 282
    },
    "id": "lMCsS0Db8VjE",
    "outputId": "69723e6a-c41c-42fa-ea24-f756fa09df78"
   },
   "outputs": [
    {
     "data": {
      "text/plain": [
       "[<matplotlib.lines.Line2D at 0x7fcf8db83b70>]"
      ]
     },
     "execution_count": 11,
     "metadata": {
      "tags": []
     },
     "output_type": "execute_result"
    },
    {
     "data": {
      "image/png": "[encoded data removed]",
      "text/plain": [
       "<Figure size 432x288 with 1 Axes>"
      ]
     },
     "metadata": {
      "needs_background": "light",
      "tags": []
     },
     "output_type": "display_data"
    }
   ],
   "source": [
    "plt.plot(df1)"
   ]
  },
  {
   "cell_type": "markdown",
   "metadata": {
    "id": "udtm7iW38VjF"
   },
   "source": [
    "### LSTM is sensitive to the scale of data so we take MinMax Scala"
   ]
  },
  {
   "cell_type": "code",
   "execution_count": null,
   "metadata": {
    "id": "1KJdwaEa8VjG"
   },
   "outputs": [],
   "source": [
    "scaler=MinMaxScaler(feature_range=(0,1))\n",
    "df1=scaler.fit_transform(np.array(df1).reshape(-1,1))"
   ]
  },
  {
   "cell_type": "markdown",
   "metadata": {
    "id": "z9AjE-598VjG"
   },
   "source": [
    "### Preprocess the Data"
   ]
  },
  {
   "cell_type": "markdown",
   "metadata": {
    "id": "rCfrpPO-8VjG"
   },
   "source": [
    "Splitting the Dataset in Train and test-For training and testing of Data we have different methods like Randomseed, Cross Validation but here we are dividing the data into train and test in a different manner as it is a timeSeries Data.\n",
    "Example:20,50,30,80 |||| 50,20,30\n",
    "\n",
    "Train-20,50,30,80,90\n",
    "\n",
    "Test=50,20,30,10,30"
   ]
  },
  {
   "cell_type": "code",
   "execution_count": null,
   "metadata": {
    "id": "IxdNxfVB8VjH"
   },
   "outputs": [],
   "source": [
    "training_size=int(len(df1)*0.65) ## 65 % of the total length of the dataframe\n",
    "test_size=len(df1)-training_size ## Lenth of dataframe minus train size 35%\n",
    "train_data,test_data=df1[0:training_size,:],df1[training_size:len(df1),:1]"
   ]
  },
  {
   "cell_type": "code",
   "execution_count": null,
   "metadata": {
    "colab": {
     "base_uri": "https://localhost:8080/"
    },
    "id": "PZOMoB4m8VjH",
    "outputId": "ef5ea448-c058-4958-afee-a634c4d4c6ba"
   },
   "outputs": [
    {
     "data": {
      "text/plain": [
       "((3679, 1), (1981, 1))"
      ]
     },
     "execution_count": 14,
     "metadata": {
      "tags": []
     },
     "output_type": "execute_result"
    }
   ],
   "source": [
    "train_data.shape,test_data.shape"
   ]
  },
  {
   "cell_type": "markdown",
   "metadata": {
    "id": "wyGNjPhL8VjI"
   },
   "source": [
    "Say Timesteps=3\n",
    "\n",
    "X_train                        Y_train(o/p)                          X_test          Y_test(o/p)\n",
    "\n",
    "20,50,30                          80                                 50,20,30          10\n",
    "\n",
    "5030,80                           90                                 20,30,10          30                        \n"
   ]
  },
  {
   "cell_type": "code",
   "execution_count": null,
   "metadata": {
    "id": "2uuM4CKo8VjJ"
   },
   "outputs": [],
   "source": [
    "# convert an array of values into a dataset matrix\n",
    "def create_dataset(dataset, time_step=1):\n",
    "    dataX, dataY = [], []\n",
    "    for i in range(len(dataset)-time_step-1):\n",
    "        a = dataset[i:(i+time_step), 0]   ###i=0, 0,1,2,3-----99   100 \n",
    "        dataX.append(a)\n",
    "        dataY.append(dataset[i + time_step, 0])\n",
    "    return np.array(dataX), np.array(dataY)"
   ]
  },
  {
   "cell_type": "code",
   "execution_count": null,
   "metadata": {
    "id": "2hQnP-aS8VjJ"
   },
   "outputs": [],
   "source": [
    "# reshape into X=t,t+1,t+2,t+3 and Y=t+4\n",
    "time_step = 100\n",
    "X_train, y_train = create_dataset(train_data, time_step)\n",
    "X_test, ytest = create_dataset(test_data, time_step)"
   ]
  },
  {
   "cell_type": "code",
   "execution_count": null,
   "metadata": {
    "colab": {
     "base_uri": "https://localhost:8080/"
    },
    "id": "dGUi3Y4A8VjK",
    "outputId": "dfcfb1f8-c162-47c0-ce36-e4e70d3caaa2"
   },
   "outputs": [
    {
     "name": "stdout",
     "output_type": "stream",
     "text": [
      "(3578, 100)\n",
      "(3578,)\n"
     ]
    },
    {
     "data": {
      "text/plain": [
       "(None, None)"
      ]
     },
     "execution_count": 17,
     "metadata": {
      "tags": []
     },
     "output_type": "execute_result"
    }
   ],
   "source": [
    "print(X_train.shape), print(y_train.shape)"
   ]
  },
  {
   "cell_type": "code",
   "execution_count": null,
   "metadata": {
    "colab": {
     "base_uri": "https://localhost:8080/"
    },
    "id": "c4LfEg558VjL",
    "outputId": "0d8eefee-86db-4046-d0f8-c99b8d19076d"
   },
   "outputs": [
    {
     "name": "stdout",
     "output_type": "stream",
     "text": [
      "(1880, 100)\n",
      "(1880,)\n"
     ]
    },
    {
     "data": {
      "text/plain": [
       "(None, None)"
      ]
     },
     "execution_count": 18,
     "metadata": {
      "tags": []
     },
     "output_type": "execute_result"
    }
   ],
   "source": [
    "print(X_test.shape), print(ytest.shape)"
   ]
  },
  {
   "cell_type": "code",
   "execution_count": null,
   "metadata": {
    "id": "VQ9bBnAw8VjL"
   },
   "outputs": [],
   "source": [
    "# reshape input to be [samples, time steps, features] which is required for LSTM\n",
    "X_train =X_train.reshape(X_train.shape[0],X_train.shape[1] , 1)\n",
    "X_test = X_test.reshape(X_test.shape[0],X_test.shape[1] , 1)"
   ]
  },
  {
   "cell_type": "code",
   "execution_count": null,
   "metadata": {
    "id": "c40elTKJ8VjM"
   },
   "outputs": [],
   "source": [
    "model=Sequential()\n",
    "model.add(LSTM(50,return_sequences=True,input_shape=(100,1)))\n",
    "model.add(LSTM(50,return_sequences=True))\n",
    "model.add(LSTM(50))\n",
    "model.add(Dense(1))\n",
    "model.compile(loss='mean_squared_error',optimizer='adam')"
   ]
  },
  {
   "cell_type": "code",
   "execution_count": null,
   "metadata": {
    "colab": {
     "base_uri": "https://localhost:8080/"
    },
    "id": "80TJB43d8VjM",
    "outputId": "7f65ec7f-8277-4f86-a568-64465e834718"
   },
   "outputs": [
    {
     "name": "stdout",
     "output_type": "stream",
     "text": [
      "Model: \"sequential\"\n",
      "_________________________________________________________________\n",
      "Layer (type)                 Output Shape              Param #   \n",
      "=================================================================\n",
      "lstm (LSTM)                  (None, 100, 50)           10400     \n",
      "_________________________________________________________________\n",
      "lstm_1 (LSTM)                (None, 100, 50)           20200     \n",
      "_________________________________________________________________\n",
      "lstm_2 (LSTM)                (None, 50)                20200     \n",
      "_________________________________________________________________\n",
      "dense (Dense)                (None, 1)                 51        \n",
      "=================================================================\n",
      "Total params: 50,851\n",
      "Trainable params: 50,851\n",
      "Non-trainable params: 0\n",
      "_________________________________________________________________\n"
     ]
    }
   ],
   "source": [
    "model.summary()"
   ]
  },
  {
   "cell_type": "code",
   "execution_count": null,
   "metadata": {
    "colab": {
     "base_uri": "https://localhost:8080/"
    },
    "id": "-SHQtXOv8VjN",
    "outputId": "b44f6ab5-ade0-40f1-d194-122a762d470a"
   },
   "outputs": [
    {
     "name": "stdout",
     "output_type": "stream",
     "text": [
      "Model: \"sequential\"\n",
      "_________________________________________________________________\n",
      "Layer (type)                 Output Shape              Param #   \n",
      "=================================================================\n",
      "lstm (LSTM)                  (None, 100, 50)           10400     \n",
      "_________________________________________________________________\n",
      "lstm_1 (LSTM)                (None, 100, 50)           20200     \n",
      "_________________________________________________________________\n",
      "lstm_2 (LSTM)                (None, 50)                20200     \n",
      "_________________________________________________________________\n",
      "dense (Dense)                (None, 1)                 51        \n",
      "=================================================================\n",
      "Total params: 50,851\n",
      "Trainable params: 50,851\n",
      "Non-trainable params: 0\n",
      "_________________________________________________________________\n"
     ]
    }
   ],
   "source": [
    "model.summary()"
   ]
  },
  {
   "cell_type": "code",
   "execution_count": null,
   "metadata": {
    "colab": {
     "base_uri": "https://localhost:8080/"
    },
    "id": "n7KnOiYs8VjN",
    "outputId": "2a70f2ca-8076-41ff-cd3e-eb7af618a6e6"
   },
   "outputs": [
    {
     "name": "stdout",
     "output_type": "stream",
     "text": [
      "Epoch 1/100\n",
      "56/56 [==============================] - 18s 238ms/step - loss: 0.0114 - val_loss: 0.0011\n",
      "Epoch 2/100\n",
      "56/56 [==============================] - 11s 196ms/step - loss: 2.1982e-04 - val_loss: 0.0020\n",
      "Epoch 3/100\n",
      "56/56 [==============================] - 11s 193ms/step - loss: 1.7748e-04 - val_loss: 0.0022\n",
      "Epoch 4/100\n",
      "56/56 [==============================] - 11s 195ms/step - loss: 1.7830e-04 - val_loss: 0.0029\n",
      "Epoch 5/100\n",
      "56/56 [==============================] - 11s 193ms/step - loss: 1.8048e-04 - val_loss: 0.0022\n",
      "Epoch 6/100\n",
      "56/56 [==============================] - 11s 192ms/step - loss: 1.6227e-04 - val_loss: 0.0027\n",
      "Epoch 7/100\n",
      "56/56 [==============================] - 11s 200ms/step - loss: 1.5413e-04 - val_loss: 0.0025\n",
      "Epoch 8/100\n",
      "56/56 [==============================] - 13s 230ms/step - loss: 1.5769e-04 - val_loss: 0.0021\n",
      "Epoch 9/100\n",
      "56/56 [==============================] - 12s 208ms/step - loss: 1.5111e-04 - val_loss: 0.0059\n",
      "Epoch 10/100\n",
      "56/56 [==============================] - 11s 199ms/step - loss: 1.7096e-04 - val_loss: 0.0027\n",
      "Epoch 11/100\n",
      "56/56 [==============================] - 11s 197ms/step - loss: 1.4076e-04 - val_loss: 0.0028\n",
      "Epoch 12/100\n",
      "56/56 [==============================] - 11s 196ms/step - loss: 1.3573e-04 - val_loss: 0.0021\n",
      "Epoch 13/100\n",
      "56/56 [==============================] - 11s 195ms/step - loss: 1.2445e-04 - val_loss: 0.0032\n",
      "Epoch 14/100\n",
      "56/56 [==============================] - 12s 221ms/step - loss: 1.1854e-04 - val_loss: 0.0020\n",
      "Epoch 15/100\n",
      "56/56 [==============================] - 11s 205ms/step - loss: 1.0634e-04 - val_loss: 0.0023\n",
      "Epoch 16/100\n",
      "56/56 [==============================] - 11s 198ms/step - loss: 1.0297e-04 - val_loss: 0.0019\n",
      "Epoch 17/100\n",
      "56/56 [==============================] - 11s 199ms/step - loss: 1.0489e-04 - val_loss: 0.0016\n",
      "Epoch 18/100\n",
      "56/56 [==============================] - 11s 195ms/step - loss: 1.0731e-04 - val_loss: 0.0016\n",
      "Epoch 19/100\n",
      "56/56 [==============================] - 11s 199ms/step - loss: 1.0039e-04 - val_loss: 0.0014\n",
      "Epoch 20/100\n",
      "56/56 [==============================] - 12s 206ms/step - loss: 1.0410e-04 - val_loss: 0.0022\n",
      "Epoch 21/100\n",
      "56/56 [==============================] - 12s 204ms/step - loss: 9.4234e-05 - val_loss: 0.0015\n",
      "Epoch 22/100\n",
      "56/56 [==============================] - 11s 195ms/step - loss: 9.5202e-05 - val_loss: 0.0017\n",
      "Epoch 23/100\n",
      "56/56 [==============================] - 11s 197ms/step - loss: 9.8106e-05 - val_loss: 0.0037\n",
      "Epoch 24/100\n",
      "56/56 [==============================] - 11s 195ms/step - loss: 1.0993e-04 - val_loss: 0.0015\n",
      "Epoch 25/100\n",
      "56/56 [==============================] - 11s 194ms/step - loss: 9.5367e-05 - val_loss: 6.4517e-04\n",
      "Epoch 26/100\n",
      "56/56 [==============================] - 11s 194ms/step - loss: 8.9670e-05 - val_loss: 0.0024\n",
      "Epoch 27/100\n",
      "56/56 [==============================] - 12s 215ms/step - loss: 8.5640e-05 - val_loss: 0.0014\n",
      "Epoch 28/100\n",
      "56/56 [==============================] - 11s 200ms/step - loss: 8.4859e-05 - val_loss: 0.0019\n",
      "Epoch 29/100\n",
      "56/56 [==============================] - 11s 204ms/step - loss: 7.4919e-05 - val_loss: 5.2691e-04\n",
      "Epoch 30/100\n",
      "56/56 [==============================] - 11s 203ms/step - loss: 9.1399e-05 - val_loss: 0.0027\n",
      "Epoch 31/100\n",
      "56/56 [==============================] - 11s 196ms/step - loss: 9.0177e-05 - val_loss: 0.0017\n",
      "Epoch 32/100\n",
      "56/56 [==============================] - 11s 196ms/step - loss: 7.6070e-05 - val_loss: 9.5569e-04\n",
      "Epoch 33/100\n",
      "56/56 [==============================] - 12s 214ms/step - loss: 7.8450e-05 - val_loss: 8.0017e-04\n",
      "Epoch 34/100\n",
      "56/56 [==============================] - 11s 206ms/step - loss: 7.9972e-05 - val_loss: 0.0024\n",
      "Epoch 35/100\n",
      "56/56 [==============================] - 11s 205ms/step - loss: 7.6221e-05 - val_loss: 0.0017\n",
      "Epoch 36/100\n",
      "56/56 [==============================] - 12s 217ms/step - loss: 7.3400e-05 - val_loss: 6.6962e-04\n",
      "Epoch 37/100\n",
      "56/56 [==============================] - 11s 195ms/step - loss: 6.6232e-05 - val_loss: 8.1799e-04\n",
      "Epoch 38/100\n",
      "56/56 [==============================] - 11s 196ms/step - loss: 6.7163e-05 - val_loss: 7.3980e-04\n",
      "Epoch 39/100\n",
      "56/56 [==============================] - 11s 195ms/step - loss: 6.3361e-05 - val_loss: 7.6868e-04\n",
      "Epoch 40/100\n",
      "56/56 [==============================] - 12s 219ms/step - loss: 6.9788e-05 - val_loss: 0.0014\n",
      "Epoch 41/100\n",
      "56/56 [==============================] - 12s 205ms/step - loss: 6.0390e-05 - val_loss: 0.0011\n",
      "Epoch 42/100\n",
      "56/56 [==============================] - 11s 205ms/step - loss: 5.6318e-05 - val_loss: 0.0011\n",
      "Epoch 43/100\n",
      "56/56 [==============================] - 11s 203ms/step - loss: 5.9972e-05 - val_loss: 5.0979e-04\n",
      "Epoch 44/100\n",
      "56/56 [==============================] - 11s 201ms/step - loss: 7.5984e-05 - val_loss: 4.9823e-04\n",
      "Epoch 45/100\n",
      "56/56 [==============================] - 11s 199ms/step - loss: 6.9030e-05 - val_loss: 7.0120e-04\n",
      "Epoch 46/100\n",
      "56/56 [==============================] - 12s 224ms/step - loss: 6.5068e-05 - val_loss: 4.2168e-04\n",
      "Epoch 47/100\n",
      "56/56 [==============================] - 11s 202ms/step - loss: 6.3528e-05 - val_loss: 0.0012\n",
      "Epoch 48/100\n",
      "56/56 [==============================] - 11s 200ms/step - loss: 5.1341e-05 - val_loss: 0.0018\n",
      "Epoch 49/100\n",
      "56/56 [==============================] - 11s 199ms/step - loss: 5.2874e-05 - val_loss: 0.0012\n",
      "Epoch 50/100\n",
      "56/56 [==============================] - 11s 199ms/step - loss: 4.9952e-05 - val_loss: 8.8313e-04\n",
      "Epoch 51/100\n",
      "56/56 [==============================] - 11s 199ms/step - loss: 4.5412e-05 - val_loss: 6.0676e-04\n",
      "Epoch 52/100\n",
      "56/56 [==============================] - 12s 219ms/step - loss: 4.1883e-05 - val_loss: 0.0012\n",
      "Epoch 53/100\n",
      "56/56 [==============================] - 12s 210ms/step - loss: 3.8174e-05 - val_loss: 6.9068e-04\n",
      "Epoch 54/100\n",
      "56/56 [==============================] - 11s 201ms/step - loss: 4.0413e-05 - val_loss: 0.0011\n",
      "Epoch 55/100\n",
      "56/56 [==============================] - 11s 200ms/step - loss: 4.5656e-05 - val_loss: 4.7127e-04\n",
      "Epoch 56/100\n",
      "56/56 [==============================] - 11s 199ms/step - loss: 3.6931e-05 - val_loss: 6.5614e-04\n",
      "Epoch 57/100\n",
      "56/56 [==============================] - 11s 196ms/step - loss: 4.1151e-05 - val_loss: 6.7636e-04\n",
      "Epoch 58/100\n",
      "56/56 [==============================] - 11s 199ms/step - loss: 4.8061e-05 - val_loss: 0.0011\n",
      "Epoch 59/100\n",
      "56/56 [==============================] - 13s 228ms/step - loss: 3.9513e-05 - val_loss: 9.9036e-04\n",
      "Epoch 60/100\n",
      "56/56 [==============================] - 11s 200ms/step - loss: 3.4041e-05 - val_loss: 5.6053e-04\n",
      "Epoch 61/100\n",
      "56/56 [==============================] - 11s 197ms/step - loss: 3.6465e-05 - val_loss: 3.1507e-04\n",
      "Epoch 62/100\n",
      "56/56 [==============================] - 11s 201ms/step - loss: 3.6029e-05 - val_loss: 0.0010\n",
      "Epoch 63/100\n",
      "56/56 [==============================] - 12s 215ms/step - loss: 3.6225e-05 - val_loss: 3.2772e-04\n",
      "Epoch 64/100\n",
      "56/56 [==============================] - 11s 201ms/step - loss: 3.2556e-05 - val_loss: 5.9635e-04\n",
      "Epoch 65/100\n",
      "56/56 [==============================] - 12s 221ms/step - loss: 2.7402e-05 - val_loss: 8.7605e-04\n",
      "Epoch 66/100\n",
      "56/56 [==============================] - 11s 200ms/step - loss: 3.0169e-05 - val_loss: 0.0010\n",
      "Epoch 67/100\n",
      "56/56 [==============================] - 11s 199ms/step - loss: 2.6473e-05 - val_loss: 0.0012\n",
      "Epoch 68/100\n",
      "56/56 [==============================] - 11s 196ms/step - loss: 2.8927e-05 - val_loss: 6.8127e-04\n",
      "Epoch 69/100\n",
      "56/56 [==============================] - 11s 196ms/step - loss: 2.8200e-05 - val_loss: 0.0012\n",
      "Epoch 70/100\n",
      "56/56 [==============================] - 11s 195ms/step - loss: 2.7799e-05 - val_loss: 7.7798e-04\n",
      "Epoch 71/100\n",
      "56/56 [==============================] - 12s 213ms/step - loss: 2.6785e-05 - val_loss: 7.8326e-04\n",
      "Epoch 72/100\n",
      "56/56 [==============================] - 11s 200ms/step - loss: 2.9778e-05 - val_loss: 6.9217e-04\n",
      "Epoch 73/100\n",
      "56/56 [==============================] - 11s 200ms/step - loss: 3.1612e-05 - val_loss: 6.3471e-04\n",
      "Epoch 74/100\n",
      "56/56 [==============================] - 11s 194ms/step - loss: 2.7461e-05 - val_loss: 6.1409e-04\n",
      "Epoch 75/100\n",
      "56/56 [==============================] - 11s 192ms/step - loss: 2.4862e-05 - val_loss: 5.6712e-04\n",
      "Epoch 76/100\n",
      "56/56 [==============================] - 11s 193ms/step - loss: 2.5356e-05 - val_loss: 4.7063e-04\n",
      "Epoch 77/100\n",
      "56/56 [==============================] - 11s 195ms/step - loss: 3.0180e-05 - val_loss: 0.0011\n",
      "Epoch 78/100\n",
      "56/56 [==============================] - 12s 218ms/step - loss: 2.7637e-05 - val_loss: 6.5489e-04\n",
      "Epoch 79/100\n",
      "56/56 [==============================] - 11s 195ms/step - loss: 2.9595e-05 - val_loss: 6.1608e-04\n",
      "Epoch 80/100\n",
      "56/56 [==============================] - 11s 196ms/step - loss: 2.4877e-05 - val_loss: 3.9060e-04\n",
      "Epoch 81/100\n",
      "56/56 [==============================] - 11s 196ms/step - loss: 2.8685e-05 - val_loss: 3.4700e-04\n",
      "Epoch 82/100\n",
      "56/56 [==============================] - 11s 196ms/step - loss: 3.1244e-05 - val_loss: 9.7628e-04\n",
      "Epoch 83/100\n",
      "56/56 [==============================] - 11s 195ms/step - loss: 2.9677e-05 - val_loss: 5.3300e-04\n",
      "Epoch 84/100\n",
      "56/56 [==============================] - 12s 219ms/step - loss: 2.9192e-05 - val_loss: 4.7551e-04\n",
      "Epoch 85/100\n",
      "56/56 [==============================] - 11s 200ms/step - loss: 2.6876e-05 - val_loss: 4.7542e-04\n",
      "Epoch 86/100\n",
      "56/56 [==============================] - 11s 199ms/step - loss: 2.4067e-05 - val_loss: 7.6940e-04\n",
      "Epoch 87/100\n",
      "56/56 [==============================] - 11s 199ms/step - loss: 3.1311e-05 - val_loss: 5.3752e-04\n",
      "Epoch 88/100\n",
      "56/56 [==============================] - 11s 197ms/step - loss: 2.4442e-05 - val_loss: 5.9933e-04\n",
      "Epoch 89/100\n",
      "56/56 [==============================] - 11s 196ms/step - loss: 2.6018e-05 - val_loss: 5.6970e-04\n",
      "Epoch 90/100\n",
      "56/56 [==============================] - 12s 216ms/step - loss: 2.6916e-05 - val_loss: 9.7667e-04\n",
      "Epoch 91/100\n",
      "56/56 [==============================] - 12s 212ms/step - loss: 3.0435e-05 - val_loss: 0.0011\n",
      "Epoch 92/100\n",
      "56/56 [==============================] - 11s 205ms/step - loss: 3.1790e-05 - val_loss: 3.2193e-04\n",
      "Epoch 93/100\n",
      "56/56 [==============================] - 11s 198ms/step - loss: 3.0494e-05 - val_loss: 8.8764e-04\n",
      "Epoch 94/100\n",
      "56/56 [==============================] - 11s 195ms/step - loss: 2.6126e-05 - val_loss: 3.7604e-04\n",
      "Epoch 95/100\n",
      "56/56 [==============================] - 11s 197ms/step - loss: 4.1626e-05 - val_loss: 8.2873e-04\n",
      "Epoch 96/100\n",
      "56/56 [==============================] - 11s 197ms/step - loss: 3.0754e-05 - val_loss: 6.4254e-04\n",
      "Epoch 97/100\n",
      "56/56 [==============================] - 12s 220ms/step - loss: 2.4618e-05 - val_loss: 9.9320e-04\n",
      "Epoch 98/100\n",
      "56/56 [==============================] - 11s 199ms/step - loss: 2.6217e-05 - val_loss: 8.0083e-04\n",
      "Epoch 99/100\n",
      "56/56 [==============================] - 11s 198ms/step - loss: 2.1355e-05 - val_loss: 6.9690e-04\n",
      "Epoch 100/100\n",
      "56/56 [==============================] - 11s 204ms/step - loss: 2.5939e-05 - val_loss: 6.0659e-04\n"
     ]
    },
    {
     "data": {
      "text/plain": [
       "<tensorflow.python.keras.callbacks.History at 0x7fcf882ad748>"
      ]
     },
     "execution_count": 23,
     "metadata": {
      "tags": []
     },
     "output_type": "execute_result"
    }
   ],
   "source": [
    "model.fit(X_train,y_train,validation_data=(X_test,ytest),epochs=100,batch_size=64,verbose=1)"
   ]
  },
  {
   "cell_type": "code",
   "execution_count": null,
   "metadata": {
    "id": "oKf3r8Ne8VjN"
   },
   "outputs": [],
   "source": [
    "### Lets Do the prediction and check performance metrics\n",
    "train_predict=model.predict(X_train)\n",
    "test_predict=model.predict(X_test)"
   ]
  },
  {
   "cell_type": "code",
   "execution_count": null,
   "metadata": {
    "id": "Jj6m2ZOm8VjO"
   },
   "outputs": [],
   "source": [
    "##Transformback to original form\n",
    "train_predict=scaler.inverse_transform(train_predict)\n",
    "test_predict=scaler.inverse_transform(test_predict)"
   ]
  },
  {
   "cell_type": "code",
   "execution_count": null,
   "metadata": {
    "colab": {
     "base_uri": "https://localhost:8080/"
    },
    "id": "WSwo55e_8VjO",
    "outputId": "2f27d2bc-4703-4803-ab45-fcd32a8b517a"
   },
   "outputs": [
    {
     "data": {
      "text/plain": [
       "11198.165481905491"
      ]
     },
     "execution_count": 27,
     "metadata": {
      "tags": []
     },
     "output_type": "execute_result"
    }
   ],
   "source": [
    "\n",
    "### Calculate RMSE performance metrics\n",
    "math.sqrt(mean_squared_error(y_train,train_predict))"
   ]
  },
  {
   "cell_type": "code",
   "execution_count": null,
   "metadata": {
    "colab": {
     "base_uri": "https://localhost:8080/"
    },
    "id": "4mX7F_FU8VjP",
    "outputId": "aa3b7b70-8f9a-4a70-8b4b-e5011913a00b"
   },
   "outputs": [
    {
     "data": {
      "text/plain": [
       "29715.602138275855"
      ]
     },
     "execution_count": 28,
     "metadata": {
      "tags": []
     },
     "output_type": "execute_result"
    }
   ],
   "source": [
    "### Test Data RMSE\n",
    "math.sqrt(mean_squared_error(ytest,test_predict))"
   ]
  },
  {
   "cell_type": "code",
   "execution_count": null,
   "metadata": {
    "colab": {
     "base_uri": "https://localhost:8080/",
     "height": 265
    },
    "id": "Y_rQC9768VjP",
    "outputId": "eba33591-9c22-4060-8037-c51aa11caa05"
   },
   "outputs": [
    {
     "data": {
      "image/png": "[encoded data removed]",
      "text/plain": [
       "<Figure size 432x288 with 1 Axes>"
      ]
     },
     "metadata": {
      "needs_background": "light",
      "tags": []
     },
     "output_type": "display_data"
    }
   ],
   "source": [
    "### Plotting \n",
    "# shift train predictions for plotting\n",
    "look_back=100\n",
    "trainPredictPlot = np.empty_like(df1)\n",
    "trainPredictPlot[:, :] = np.nan\n",
    "trainPredictPlot[look_back:len(train_predict)+look_back, :] = train_predict\n",
    "# shift test predictions for plotting\n",
    "testPredictPlot = np.empty_like(df1)\n",
    "testPredictPlot[:, :] = np.nan\n",
    "testPredictPlot[len(train_predict)+(look_back*2)+1:len(df1)-1, :] = test_predict\n",
    "# plot baseline and predictions\n",
    "plt.plot(scaler.inverse_transform(df1))\n",
    "plt.plot(trainPredictPlot)\n",
    "plt.plot(testPredictPlot)\n",
    "plt.show()"
   ]
  },
  {
   "cell_type": "code",
   "execution_count": null,
   "metadata": {
    "colab": {
     "base_uri": "https://localhost:8080/"
    },
    "id": "f7RVqPdQDGm2",
    "outputId": "e476a8ad-0bff-4c82-c9f4-803ff46097fe"
   },
   "outputs": [
    {
     "data": {
      "text/plain": [
       "1981"
      ]
     },
     "execution_count": 30,
     "metadata": {
      "tags": []
     },
     "output_type": "execute_result"
    }
   ],
   "source": [
    "len(test_data)"
   ]
  },
  {
   "cell_type": "code",
   "execution_count": null,
   "metadata": {
    "colab": {
     "base_uri": "https://localhost:8080/"
    },
    "id": "L1eRSuusDsno",
    "outputId": "14b27eb6-c7a9-4b1e-86a1-7af41ff05259"
   },
   "outputs": [
    {
     "data": {
      "text/plain": [
       "(1, 100)"
      ]
     },
     "execution_count": 31,
     "metadata": {
      "tags": []
     },
     "output_type": "execute_result"
    }
   ],
   "source": [
    "x_input=test_data[1881:].reshape(1,-1)\n",
    "x_input.shape"
   ]
  },
  {
   "cell_type": "code",
   "execution_count": null,
   "metadata": {
    "id": "zZIro1u2D8Zm"
   },
   "outputs": [],
   "source": [
    "temp_input=list(x_input)\n",
    "temp_input=temp_input[0].tolist()"
   ]
  },
  {
   "cell_type": "code",
   "execution_count": null,
   "metadata": {
    "colab": {
     "base_uri": "https://localhost:8080/"
    },
    "id": "9VEoSghhEo8d",
    "outputId": "98dbe81f-d2a8-4dd3-c5bd-d014395a6f5e"
   },
   "outputs": [
    {
     "name": "stdout",
     "output_type": "stream",
     "text": [
      "[0.91714793]\n",
      "101\n",
      "1 day input [0.71335909 0.71175083 0.73705849 0.75218761 0.7578673  0.78021454\n",
      " 0.79347955 0.80069657 0.79742258 0.80521215 0.80732993 0.79681251\n",
      " 0.80419093 0.78618243 0.79234518 0.77831583 0.78788112 0.78540867\n",
      " 0.80319989 0.81650729 0.82107091 0.83426217 0.819995   0.81931197\n",
      " 0.82767657 0.82234654 0.82118476 0.83385609 0.84476391 0.84928008\n",
      " 0.86111819 0.86587617 0.85709635 0.86748145 0.86383839 0.86636335\n",
      " 0.84957578 0.85005225 0.86072173 0.87465886 0.88479411 0.89778795\n",
      " 0.89629354 0.9031279  0.90283388 0.89789981 0.9120849  0.90136588\n",
      " 0.89285159 0.88956896 0.87261226 0.89162778 0.89100312 0.9002051\n",
      " 0.90058935 0.90418525 0.90990111 0.90895117 0.90744832 0.89644144\n",
      " 0.90084882 0.91298373 0.91518102 0.90515882 0.91060519 0.91986405\n",
      " 0.9210025  0.9268482  0.92785313 0.93684468 0.91552407 0.92244896\n",
      " 0.92715591 0.92473955 0.90863482 0.91016079 0.90884247 0.90448622\n",
      " 0.92091207 0.92127368 0.91878536 0.92609677 0.93266561 0.92445774\n",
      " 0.92105183 0.90042596 0.89280097 0.89113256 0.86280348 0.88402344\n",
      " 0.89909157 0.89887785 0.90128459 0.9172714  0.9243014  0.93957034\n",
      " 0.94730502 0.95502302 0.96332786 0.91714793]\n",
      "1 day output [[0.83252656]]\n",
      "2 day input [0.71175083 0.73705849 0.75218761 0.7578673  0.78021454 0.79347955\n",
      " 0.80069657 0.79742258 0.80521215 0.80732993 0.79681251 0.80419093\n",
      " 0.78618243 0.79234518 0.77831583 0.78788112 0.78540867 0.80319989\n",
      " 0.81650729 0.82107091 0.83426217 0.819995   0.81931197 0.82767657\n",
      " 0.82234654 0.82118476 0.83385609 0.84476391 0.84928008 0.86111819\n",
      " 0.86587617 0.85709635 0.86748145 0.86383839 0.86636335 0.84957578\n",
      " 0.85005225 0.86072173 0.87465886 0.88479411 0.89778795 0.89629354\n",
      " 0.9031279  0.90283388 0.89789981 0.9120849  0.90136588 0.89285159\n",
      " 0.88956896 0.87261226 0.89162778 0.89100312 0.9002051  0.90058935\n",
      " 0.90418525 0.90990111 0.90895117 0.90744832 0.89644144 0.90084882\n",
      " 0.91298373 0.91518102 0.90515882 0.91060519 0.91986405 0.9210025\n",
      " 0.9268482  0.92785313 0.93684468 0.91552407 0.92244896 0.92715591\n",
      " 0.92473955 0.90863482 0.91016079 0.90884247 0.90448622 0.92091207\n",
      " 0.92127368 0.91878536 0.92609677 0.93266561 0.92445774 0.92105183\n",
      " 0.90042596 0.89280097 0.89113256 0.86280348 0.88402344 0.89909157\n",
      " 0.89887785 0.90128459 0.9172714  0.9243014  0.93957034 0.94730502\n",
      " 0.95502302 0.96332786 0.91714793 0.83252656]\n",
      "2 day output [[0.76292264]]\n",
      "3 day input [0.73705849 0.75218761 0.7578673  0.78021454 0.79347955 0.80069657\n",
      " 0.79742258 0.80521215 0.80732993 0.79681251 0.80419093 0.78618243\n",
      " 0.79234518 0.77831583 0.78788112 0.78540867 0.80319989 0.81650729\n",
      " 0.82107091 0.83426217 0.819995   0.81931197 0.82767657 0.82234654\n",
      " 0.82118476 0.83385609 0.84476391 0.84928008 0.86111819 0.86587617\n",
      " 0.85709635 0.86748145 0.86383839 0.86636335 0.84957578 0.85005225\n",
      " 0.86072173 0.87465886 0.88479411 0.89778795 0.89629354 0.9031279\n",
      " 0.90283388 0.89789981 0.9120849  0.90136588 0.89285159 0.88956896\n",
      " 0.87261226 0.89162778 0.89100312 0.9002051  0.90058935 0.90418525\n",
      " 0.90990111 0.90895117 0.90744832 0.89644144 0.90084882 0.91298373\n",
      " 0.91518102 0.90515882 0.91060519 0.91986405 0.9210025  0.9268482\n",
      " 0.92785313 0.93684468 0.91552407 0.92244896 0.92715591 0.92473955\n",
      " 0.90863482 0.91016079 0.90884247 0.90448622 0.92091207 0.92127368\n",
      " 0.91878536 0.92609677 0.93266561 0.92445774 0.92105183 0.90042596\n",
      " 0.89280097 0.89113256 0.86280348 0.88402344 0.89909157 0.89887785\n",
      " 0.90128459 0.9172714  0.9243014  0.93957034 0.94730502 0.95502302\n",
      " 0.96332786 0.91714793 0.83252656 0.76292264]\n",
      "3 day output [[0.7298379]]\n",
      "4 day input [0.75218761 0.7578673  0.78021454 0.79347955 0.80069657 0.79742258\n",
      " 0.80521215 0.80732993 0.79681251 0.80419093 0.78618243 0.79234518\n",
      " 0.77831583 0.78788112 0.78540867 0.80319989 0.81650729 0.82107091\n",
      " 0.83426217 0.819995   0.81931197 0.82767657 0.82234654 0.82118476\n",
      " 0.83385609 0.84476391 0.84928008 0.86111819 0.86587617 0.85709635\n",
      " 0.86748145 0.86383839 0.86636335 0.84957578 0.85005225 0.86072173\n",
      " 0.87465886 0.88479411 0.89778795 0.89629354 0.9031279  0.90283388\n",
      " 0.89789981 0.9120849  0.90136588 0.89285159 0.88956896 0.87261226\n",
      " 0.89162778 0.89100312 0.9002051  0.90058935 0.90418525 0.90990111\n",
      " 0.90895117 0.90744832 0.89644144 0.90084882 0.91298373 0.91518102\n",
      " 0.90515882 0.91060519 0.91986405 0.9210025  0.9268482  0.92785313\n",
      " 0.93684468 0.91552407 0.92244896 0.92715591 0.92473955 0.90863482\n",
      " 0.91016079 0.90884247 0.90448622 0.92091207 0.92127368 0.91878536\n",
      " 0.92609677 0.93266561 0.92445774 0.92105183 0.90042596 0.89280097\n",
      " 0.89113256 0.86280348 0.88402344 0.89909157 0.89887785 0.90128459\n",
      " 0.9172714  0.9243014  0.93957034 0.94730502 0.95502302 0.96332786\n",
      " 0.91714793 0.83252656 0.76292264 0.72983789]\n",
      "4 day output [[0.7231453]]\n",
      "5 day input [0.7578673  0.78021454 0.79347955 0.80069657 0.79742258 0.80521215\n",
      " 0.80732993 0.79681251 0.80419093 0.78618243 0.79234518 0.77831583\n",
      " 0.78788112 0.78540867 0.80319989 0.81650729 0.82107091 0.83426217\n",
      " 0.819995   0.81931197 0.82767657 0.82234654 0.82118476 0.83385609\n",
      " 0.84476391 0.84928008 0.86111819 0.86587617 0.85709635 0.86748145\n",
      " 0.86383839 0.86636335 0.84957578 0.85005225 0.86072173 0.87465886\n",
      " 0.88479411 0.89778795 0.89629354 0.9031279  0.90283388 0.89789981\n",
      " 0.9120849  0.90136588 0.89285159 0.88956896 0.87261226 0.89162778\n",
      " 0.89100312 0.9002051  0.90058935 0.90418525 0.90990111 0.90895117\n",
      " 0.90744832 0.89644144 0.90084882 0.91298373 0.91518102 0.90515882\n",
      " 0.91060519 0.91986405 0.9210025  0.9268482  0.92785313 0.93684468\n",
      " 0.91552407 0.92244896 0.92715591 0.92473955 0.90863482 0.91016079\n",
      " 0.90884247 0.90448622 0.92091207 0.92127368 0.91878536 0.92609677\n",
      " 0.93266561 0.92445774 0.92105183 0.90042596 0.89280097 0.89113256\n",
      " 0.86280348 0.88402344 0.89909157 0.89887785 0.90128459 0.9172714\n",
      " 0.9243014  0.93957034 0.94730502 0.95502302 0.96332786 0.91714793\n",
      " 0.83252656 0.76292264 0.72983789 0.72314531]\n",
      "5 day output [[0.7249653]]\n",
      "6 day input [0.78021454 0.79347955 0.80069657 0.79742258 0.80521215 0.80732993\n",
      " 0.79681251 0.80419093 0.78618243 0.79234518 0.77831583 0.78788112\n",
      " 0.78540867 0.80319989 0.81650729 0.82107091 0.83426217 0.819995\n",
      " 0.81931197 0.82767657 0.82234654 0.82118476 0.83385609 0.84476391\n",
      " 0.84928008 0.86111819 0.86587617 0.85709635 0.86748145 0.86383839\n",
      " 0.86636335 0.84957578 0.85005225 0.86072173 0.87465886 0.88479411\n",
      " 0.89778795 0.89629354 0.9031279  0.90283388 0.89789981 0.9120849\n",
      " 0.90136588 0.89285159 0.88956896 0.87261226 0.89162778 0.89100312\n",
      " 0.9002051  0.90058935 0.90418525 0.90990111 0.90895117 0.90744832\n",
      " 0.89644144 0.90084882 0.91298373 0.91518102 0.90515882 0.91060519\n",
      " 0.91986405 0.9210025  0.9268482  0.92785313 0.93684468 0.91552407\n",
      " 0.92244896 0.92715591 0.92473955 0.90863482 0.91016079 0.90884247\n",
      " 0.90448622 0.92091207 0.92127368 0.91878536 0.92609677 0.93266561\n",
      " 0.92445774 0.92105183 0.90042596 0.89280097 0.89113256 0.86280348\n",
      " 0.88402344 0.89909157 0.89887785 0.90128459 0.9172714  0.9243014\n",
      " 0.93957034 0.94730502 0.95502302 0.96332786 0.91714793 0.83252656\n",
      " 0.76292264 0.72983789 0.72314531 0.72496527]\n",
      "6 day output [[0.7236972]]\n",
      "7 day input [0.79347955 0.80069657 0.79742258 0.80521215 0.80732993 0.79681251\n",
      " 0.80419093 0.78618243 0.79234518 0.77831583 0.78788112 0.78540867\n",
      " 0.80319989 0.81650729 0.82107091 0.83426217 0.819995   0.81931197\n",
      " 0.82767657 0.82234654 0.82118476 0.83385609 0.84476391 0.84928008\n",
      " 0.86111819 0.86587617 0.85709635 0.86748145 0.86383839 0.86636335\n",
      " 0.84957578 0.85005225 0.86072173 0.87465886 0.88479411 0.89778795\n",
      " 0.89629354 0.9031279  0.90283388 0.89789981 0.9120849  0.90136588\n",
      " 0.89285159 0.88956896 0.87261226 0.89162778 0.89100312 0.9002051\n",
      " 0.90058935 0.90418525 0.90990111 0.90895117 0.90744832 0.89644144\n",
      " 0.90084882 0.91298373 0.91518102 0.90515882 0.91060519 0.91986405\n",
      " 0.9210025  0.9268482  0.92785313 0.93684468 0.91552407 0.92244896\n",
      " 0.92715591 0.92473955 0.90863482 0.91016079 0.90884247 0.90448622\n",
      " 0.92091207 0.92127368 0.91878536 0.92609677 0.93266561 0.92445774\n",
      " 0.92105183 0.90042596 0.89280097 0.89113256 0.86280348 0.88402344\n",
      " 0.89909157 0.89887785 0.90128459 0.9172714  0.9243014  0.93957034\n",
      " 0.94730502 0.95502302 0.96332786 0.91714793 0.83252656 0.76292264\n",
      " 0.72983789 0.72314531 0.72496527 0.72369719]\n",
      "7 day output [[0.7157738]]\n",
      "8 day input [0.80069657 0.79742258 0.80521215 0.80732993 0.79681251 0.80419093\n",
      " 0.78618243 0.79234518 0.77831583 0.78788112 0.78540867 0.80319989\n",
      " 0.81650729 0.82107091 0.83426217 0.819995   0.81931197 0.82767657\n",
      " 0.82234654 0.82118476 0.83385609 0.84476391 0.84928008 0.86111819\n",
      " 0.86587617 0.85709635 0.86748145 0.86383839 0.86636335 0.84957578\n",
      " 0.85005225 0.86072173 0.87465886 0.88479411 0.89778795 0.89629354\n",
      " 0.9031279  0.90283388 0.89789981 0.9120849  0.90136588 0.89285159\n",
      " 0.88956896 0.87261226 0.89162778 0.89100312 0.9002051  0.90058935\n",
      " 0.90418525 0.90990111 0.90895117 0.90744832 0.89644144 0.90084882\n",
      " 0.91298373 0.91518102 0.90515882 0.91060519 0.91986405 0.9210025\n",
      " 0.9268482  0.92785313 0.93684468 0.91552407 0.92244896 0.92715591\n",
      " 0.92473955 0.90863482 0.91016079 0.90884247 0.90448622 0.92091207\n",
      " 0.92127368 0.91878536 0.92609677 0.93266561 0.92445774 0.92105183\n",
      " 0.90042596 0.89280097 0.89113256 0.86280348 0.88402344 0.89909157\n",
      " 0.89887785 0.90128459 0.9172714  0.9243014  0.93957034 0.94730502\n",
      " 0.95502302 0.96332786 0.91714793 0.83252656 0.76292264 0.72983789\n",
      " 0.72314531 0.72496527 0.72369719 0.71577382]\n",
      "8 day output [[0.70255]]\n",
      "9 day input [0.79742258 0.80521215 0.80732993 0.79681251 0.80419093 0.78618243\n",
      " 0.79234518 0.77831583 0.78788112 0.78540867 0.80319989 0.81650729\n",
      " 0.82107091 0.83426217 0.819995   0.81931197 0.82767657 0.82234654\n",
      " 0.82118476 0.83385609 0.84476391 0.84928008 0.86111819 0.86587617\n",
      " 0.85709635 0.86748145 0.86383839 0.86636335 0.84957578 0.85005225\n",
      " 0.86072173 0.87465886 0.88479411 0.89778795 0.89629354 0.9031279\n",
      " 0.90283388 0.89789981 0.9120849  0.90136588 0.89285159 0.88956896\n",
      " 0.87261226 0.89162778 0.89100312 0.9002051  0.90058935 0.90418525\n",
      " 0.90990111 0.90895117 0.90744832 0.89644144 0.90084882 0.91298373\n",
      " 0.91518102 0.90515882 0.91060519 0.91986405 0.9210025  0.9268482\n",
      " 0.92785313 0.93684468 0.91552407 0.92244896 0.92715591 0.92473955\n",
      " 0.90863482 0.91016079 0.90884247 0.90448622 0.92091207 0.92127368\n",
      " 0.91878536 0.92609677 0.93266561 0.92445774 0.92105183 0.90042596\n",
      " 0.89280097 0.89113256 0.86280348 0.88402344 0.89909157 0.89887785\n",
      " 0.90128459 0.9172714  0.9243014  0.93957034 0.94730502 0.95502302\n",
      " 0.96332786 0.91714793 0.83252656 0.76292264 0.72983789 0.72314531\n",
      " 0.72496527 0.72369719 0.71577382 0.70254999]\n",
      "9 day output [[0.68700606]]\n",
      "10 day input [0.80521215 0.80732993 0.79681251 0.80419093 0.78618243 0.79234518\n",
      " 0.77831583 0.78788112 0.78540867 0.80319989 0.81650729 0.82107091\n",
      " 0.83426217 0.819995   0.81931197 0.82767657 0.82234654 0.82118476\n",
      " 0.83385609 0.84476391 0.84928008 0.86111819 0.86587617 0.85709635\n",
      " 0.86748145 0.86383839 0.86636335 0.84957578 0.85005225 0.86072173\n",
      " 0.87465886 0.88479411 0.89778795 0.89629354 0.9031279  0.90283388\n",
      " 0.89789981 0.9120849  0.90136588 0.89285159 0.88956896 0.87261226\n",
      " 0.89162778 0.89100312 0.9002051  0.90058935 0.90418525 0.90990111\n",
      " 0.90895117 0.90744832 0.89644144 0.90084882 0.91298373 0.91518102\n",
      " 0.90515882 0.91060519 0.91986405 0.9210025  0.9268482  0.92785313\n",
      " 0.93684468 0.91552407 0.92244896 0.92715591 0.92473955 0.90863482\n",
      " 0.91016079 0.90884247 0.90448622 0.92091207 0.92127368 0.91878536\n",
      " 0.92609677 0.93266561 0.92445774 0.92105183 0.90042596 0.89280097\n",
      " 0.89113256 0.86280348 0.88402344 0.89909157 0.89887785 0.90128459\n",
      " 0.9172714  0.9243014  0.93957034 0.94730502 0.95502302 0.96332786\n",
      " 0.91714793 0.83252656 0.76292264 0.72983789 0.72314531 0.72496527\n",
      " 0.72369719 0.71577382 0.70254999 0.68700606]\n",
      "10 day output [[0.671728]]\n",
      "11 day input [0.80732993 0.79681251 0.80419093 0.78618243 0.79234518 0.77831583\n",
      " 0.78788112 0.78540867 0.80319989 0.81650729 0.82107091 0.83426217\n",
      " 0.819995   0.81931197 0.82767657 0.82234654 0.82118476 0.83385609\n",
      " 0.84476391 0.84928008 0.86111819 0.86587617 0.85709635 0.86748145\n",
      " 0.86383839 0.86636335 0.84957578 0.85005225 0.86072173 0.87465886\n",
      " 0.88479411 0.89778795 0.89629354 0.9031279  0.90283388 0.89789981\n",
      " 0.9120849  0.90136588 0.89285159 0.88956896 0.87261226 0.89162778\n",
      " 0.89100312 0.9002051  0.90058935 0.90418525 0.90990111 0.90895117\n",
      " 0.90744832 0.89644144 0.90084882 0.91298373 0.91518102 0.90515882\n",
      " 0.91060519 0.91986405 0.9210025  0.9268482  0.92785313 0.93684468\n",
      " 0.91552407 0.92244896 0.92715591 0.92473955 0.90863482 0.91016079\n",
      " 0.90884247 0.90448622 0.92091207 0.92127368 0.91878536 0.92609677\n",
      " 0.93266561 0.92445774 0.92105183 0.90042596 0.89280097 0.89113256\n",
      " 0.86280348 0.88402344 0.89909157 0.89887785 0.90128459 0.9172714\n",
      " 0.9243014  0.93957034 0.94730502 0.95502302 0.96332786 0.91714793\n",
      " 0.83252656 0.76292264 0.72983789 0.72314531 0.72496527 0.72369719\n",
      " 0.71577382 0.70254999 0.68700606 0.67172801]\n",
      "11 day output [[0.65816057]]\n",
      "12 day input [0.79681251 0.80419093 0.78618243 0.79234518 0.77831583 0.78788112\n",
      " 0.78540867 0.80319989 0.81650729 0.82107091 0.83426217 0.819995\n",
      " 0.81931197 0.82767657 0.82234654 0.82118476 0.83385609 0.84476391\n",
      " 0.84928008 0.86111819 0.86587617 0.85709635 0.86748145 0.86383839\n",
      " 0.86636335 0.84957578 0.85005225 0.86072173 0.87465886 0.88479411\n",
      " 0.89778795 0.89629354 0.9031279  0.90283388 0.89789981 0.9120849\n",
      " 0.90136588 0.89285159 0.88956896 0.87261226 0.89162778 0.89100312\n",
      " 0.9002051  0.90058935 0.90418525 0.90990111 0.90895117 0.90744832\n",
      " 0.89644144 0.90084882 0.91298373 0.91518102 0.90515882 0.91060519\n",
      " 0.91986405 0.9210025  0.9268482  0.92785313 0.93684468 0.91552407\n",
      " 0.92244896 0.92715591 0.92473955 0.90863482 0.91016079 0.90884247\n",
      " 0.90448622 0.92091207 0.92127368 0.91878536 0.92609677 0.93266561\n",
      " 0.92445774 0.92105183 0.90042596 0.89280097 0.89113256 0.86280348\n",
      " 0.88402344 0.89909157 0.89887785 0.90128459 0.9172714  0.9243014\n",
      " 0.93957034 0.94730502 0.95502302 0.96332786 0.91714793 0.83252656\n",
      " 0.76292264 0.72983789 0.72314531 0.72496527 0.72369719 0.71577382\n",
      " 0.70254999 0.68700606 0.67172801 0.65816057]\n",
      "12 day output [[0.6466811]]\n",
      "13 day input [0.80419093 0.78618243 0.79234518 0.77831583 0.78788112 0.78540867\n",
      " 0.80319989 0.81650729 0.82107091 0.83426217 0.819995   0.81931197\n",
      " 0.82767657 0.82234654 0.82118476 0.83385609 0.84476391 0.84928008\n",
      " 0.86111819 0.86587617 0.85709635 0.86748145 0.86383839 0.86636335\n",
      " 0.84957578 0.85005225 0.86072173 0.87465886 0.88479411 0.89778795\n",
      " 0.89629354 0.9031279  0.90283388 0.89789981 0.9120849  0.90136588\n",
      " 0.89285159 0.88956896 0.87261226 0.89162778 0.89100312 0.9002051\n",
      " 0.90058935 0.90418525 0.90990111 0.90895117 0.90744832 0.89644144\n",
      " 0.90084882 0.91298373 0.91518102 0.90515882 0.91060519 0.91986405\n",
      " 0.9210025  0.9268482  0.92785313 0.93684468 0.91552407 0.92244896\n",
      " 0.92715591 0.92473955 0.90863482 0.91016079 0.90884247 0.90448622\n",
      " 0.92091207 0.92127368 0.91878536 0.92609677 0.93266561 0.92445774\n",
      " 0.92105183 0.90042596 0.89280097 0.89113256 0.86280348 0.88402344\n",
      " 0.89909157 0.89887785 0.90128459 0.9172714  0.9243014  0.93957034\n",
      " 0.94730502 0.95502302 0.96332786 0.91714793 0.83252656 0.76292264\n",
      " 0.72983789 0.72314531 0.72496527 0.72369719 0.71577382 0.70254999\n",
      " 0.68700606 0.67172801 0.65816057 0.64668107]\n",
      "13 day output [[0.63701326]]\n",
      "14 day input [0.78618243 0.79234518 0.77831583 0.78788112 0.78540867 0.80319989\n",
      " 0.81650729 0.82107091 0.83426217 0.819995   0.81931197 0.82767657\n",
      " 0.82234654 0.82118476 0.83385609 0.84476391 0.84928008 0.86111819\n",
      " 0.86587617 0.85709635 0.86748145 0.86383839 0.86636335 0.84957578\n",
      " 0.85005225 0.86072173 0.87465886 0.88479411 0.89778795 0.89629354\n",
      " 0.9031279  0.90283388 0.89789981 0.9120849  0.90136588 0.89285159\n",
      " 0.88956896 0.87261226 0.89162778 0.89100312 0.9002051  0.90058935\n",
      " 0.90418525 0.90990111 0.90895117 0.90744832 0.89644144 0.90084882\n",
      " 0.91298373 0.91518102 0.90515882 0.91060519 0.91986405 0.9210025\n",
      " 0.9268482  0.92785313 0.93684468 0.91552407 0.92244896 0.92715591\n",
      " 0.92473955 0.90863482 0.91016079 0.90884247 0.90448622 0.92091207\n",
      " 0.92127368 0.91878536 0.92609677 0.93266561 0.92445774 0.92105183\n",
      " 0.90042596 0.89280097 0.89113256 0.86280348 0.88402344 0.89909157\n",
      " 0.89887785 0.90128459 0.9172714  0.9243014  0.93957034 0.94730502\n",
      " 0.95502302 0.96332786 0.91714793 0.83252656 0.76292264 0.72983789\n",
      " 0.72314531 0.72496527 0.72369719 0.71577382 0.70254999 0.68700606\n",
      " 0.67172801 0.65816057 0.64668107 0.63701326]\n",
      "14 day output [[0.6286424]]\n",
      "15 day input [0.79234518 0.77831583 0.78788112 0.78540867 0.80319989 0.81650729\n",
      " 0.82107091 0.83426217 0.819995   0.81931197 0.82767657 0.82234654\n",
      " 0.82118476 0.83385609 0.84476391 0.84928008 0.86111819 0.86587617\n",
      " 0.85709635 0.86748145 0.86383839 0.86636335 0.84957578 0.85005225\n",
      " 0.86072173 0.87465886 0.88479411 0.89778795 0.89629354 0.9031279\n",
      " 0.90283388 0.89789981 0.9120849  0.90136588 0.89285159 0.88956896\n",
      " 0.87261226 0.89162778 0.89100312 0.9002051  0.90058935 0.90418525\n",
      " 0.90990111 0.90895117 0.90744832 0.89644144 0.90084882 0.91298373\n",
      " 0.91518102 0.90515882 0.91060519 0.91986405 0.9210025  0.9268482\n",
      " 0.92785313 0.93684468 0.91552407 0.92244896 0.92715591 0.92473955\n",
      " 0.90863482 0.91016079 0.90884247 0.90448622 0.92091207 0.92127368\n",
      " 0.91878536 0.92609677 0.93266561 0.92445774 0.92105183 0.90042596\n",
      " 0.89280097 0.89113256 0.86280348 0.88402344 0.89909157 0.89887785\n",
      " 0.90128459 0.9172714  0.9243014  0.93957034 0.94730502 0.95502302\n",
      " 0.96332786 0.91714793 0.83252656 0.76292264 0.72983789 0.72314531\n",
      " 0.72496527 0.72369719 0.71577382 0.70254999 0.68700606 0.67172801\n",
      " 0.65816057 0.64668107 0.63701326 0.62864238]\n",
      "15 day output [[0.6210871]]\n",
      "16 day input [0.77831583 0.78788112 0.78540867 0.80319989 0.81650729 0.82107091\n",
      " 0.83426217 0.819995   0.81931197 0.82767657 0.82234654 0.82118476\n",
      " 0.83385609 0.84476391 0.84928008 0.86111819 0.86587617 0.85709635\n",
      " 0.86748145 0.86383839 0.86636335 0.84957578 0.85005225 0.86072173\n",
      " 0.87465886 0.88479411 0.89778795 0.89629354 0.9031279  0.90283388\n",
      " 0.89789981 0.9120849  0.90136588 0.89285159 0.88956896 0.87261226\n",
      " 0.89162778 0.89100312 0.9002051  0.90058935 0.90418525 0.90990111\n",
      " 0.90895117 0.90744832 0.89644144 0.90084882 0.91298373 0.91518102\n",
      " 0.90515882 0.91060519 0.91986405 0.9210025  0.9268482  0.92785313\n",
      " 0.93684468 0.91552407 0.92244896 0.92715591 0.92473955 0.90863482\n",
      " 0.91016079 0.90884247 0.90448622 0.92091207 0.92127368 0.91878536\n",
      " 0.92609677 0.93266561 0.92445774 0.92105183 0.90042596 0.89280097\n",
      " 0.89113256 0.86280348 0.88402344 0.89909157 0.89887785 0.90128459\n",
      " 0.9172714  0.9243014  0.93957034 0.94730502 0.95502302 0.96332786\n",
      " 0.91714793 0.83252656 0.76292264 0.72983789 0.72314531 0.72496527\n",
      " 0.72369719 0.71577382 0.70254999 0.68700606 0.67172801 0.65816057\n",
      " 0.64668107 0.63701326 0.62864238 0.62108707]\n",
      "16 day output [[0.61401457]]\n",
      "17 day input [0.78788112 0.78540867 0.80319989 0.81650729 0.82107091 0.83426217\n",
      " 0.819995   0.81931197 0.82767657 0.82234654 0.82118476 0.83385609\n",
      " 0.84476391 0.84928008 0.86111819 0.86587617 0.85709635 0.86748145\n",
      " 0.86383839 0.86636335 0.84957578 0.85005225 0.86072173 0.87465886\n",
      " 0.88479411 0.89778795 0.89629354 0.9031279  0.90283388 0.89789981\n",
      " 0.9120849  0.90136588 0.89285159 0.88956896 0.87261226 0.89162778\n",
      " 0.89100312 0.9002051  0.90058935 0.90418525 0.90990111 0.90895117\n",
      " 0.90744832 0.89644144 0.90084882 0.91298373 0.91518102 0.90515882\n",
      " 0.91060519 0.91986405 0.9210025  0.9268482  0.92785313 0.93684468\n",
      " 0.91552407 0.92244896 0.92715591 0.92473955 0.90863482 0.91016079\n",
      " 0.90884247 0.90448622 0.92091207 0.92127368 0.91878536 0.92609677\n",
      " 0.93266561 0.92445774 0.92105183 0.90042596 0.89280097 0.89113256\n",
      " 0.86280348 0.88402344 0.89909157 0.89887785 0.90128459 0.9172714\n",
      " 0.9243014  0.93957034 0.94730502 0.95502302 0.96332786 0.91714793\n",
      " 0.83252656 0.76292264 0.72983789 0.72314531 0.72496527 0.72369719\n",
      " 0.71577382 0.70254999 0.68700606 0.67172801 0.65816057 0.64668107\n",
      " 0.63701326 0.62864238 0.62108707 0.61401457]\n",
      "17 day output [[0.6072511]]\n",
      "18 day input [0.78540867 0.80319989 0.81650729 0.82107091 0.83426217 0.819995\n",
      " 0.81931197 0.82767657 0.82234654 0.82118476 0.83385609 0.84476391\n",
      " 0.84928008 0.86111819 0.86587617 0.85709635 0.86748145 0.86383839\n",
      " 0.86636335 0.84957578 0.85005225 0.86072173 0.87465886 0.88479411\n",
      " 0.89778795 0.89629354 0.9031279  0.90283388 0.89789981 0.9120849\n",
      " 0.90136588 0.89285159 0.88956896 0.87261226 0.89162778 0.89100312\n",
      " 0.9002051  0.90058935 0.90418525 0.90990111 0.90895117 0.90744832\n",
      " 0.89644144 0.90084882 0.91298373 0.91518102 0.90515882 0.91060519\n",
      " 0.91986405 0.9210025  0.9268482  0.92785313 0.93684468 0.91552407\n",
      " 0.92244896 0.92715591 0.92473955 0.90863482 0.91016079 0.90884247\n",
      " 0.90448622 0.92091207 0.92127368 0.91878536 0.92609677 0.93266561\n",
      " 0.92445774 0.92105183 0.90042596 0.89280097 0.89113256 0.86280348\n",
      " 0.88402344 0.89909157 0.89887785 0.90128459 0.9172714  0.9243014\n",
      " 0.93957034 0.94730502 0.95502302 0.96332786 0.91714793 0.83252656\n",
      " 0.76292264 0.72983789 0.72314531 0.72496527 0.72369719 0.71577382\n",
      " 0.70254999 0.68700606 0.67172801 0.65816057 0.64668107 0.63701326\n",
      " 0.62864238 0.62108707 0.61401457 0.60725111]\n",
      "18 day output [[0.6007398]]\n",
      "19 day input [0.80319989 0.81650729 0.82107091 0.83426217 0.819995   0.81931197\n",
      " 0.82767657 0.82234654 0.82118476 0.83385609 0.84476391 0.84928008\n",
      " 0.86111819 0.86587617 0.85709635 0.86748145 0.86383839 0.86636335\n",
      " 0.84957578 0.85005225 0.86072173 0.87465886 0.88479411 0.89778795\n",
      " 0.89629354 0.9031279  0.90283388 0.89789981 0.9120849  0.90136588\n",
      " 0.89285159 0.88956896 0.87261226 0.89162778 0.89100312 0.9002051\n",
      " 0.90058935 0.90418525 0.90990111 0.90895117 0.90744832 0.89644144\n",
      " 0.90084882 0.91298373 0.91518102 0.90515882 0.91060519 0.91986405\n",
      " 0.9210025  0.9268482  0.92785313 0.93684468 0.91552407 0.92244896\n",
      " 0.92715591 0.92473955 0.90863482 0.91016079 0.90884247 0.90448622\n",
      " 0.92091207 0.92127368 0.91878536 0.92609677 0.93266561 0.92445774\n",
      " 0.92105183 0.90042596 0.89280097 0.89113256 0.86280348 0.88402344\n",
      " 0.89909157 0.89887785 0.90128459 0.9172714  0.9243014  0.93957034\n",
      " 0.94730502 0.95502302 0.96332786 0.91714793 0.83252656 0.76292264\n",
      " 0.72983789 0.72314531 0.72496527 0.72369719 0.71577382 0.70254999\n",
      " 0.68700606 0.67172801 0.65816057 0.64668107 0.63701326 0.62864238\n",
      " 0.62108707 0.61401457 0.60725111 0.60073978]\n",
      "19 day output [[0.59448755]]\n",
      "20 day input [0.81650729 0.82107091 0.83426217 0.819995   0.81931197 0.82767657\n",
      " 0.82234654 0.82118476 0.83385609 0.84476391 0.84928008 0.86111819\n",
      " 0.86587617 0.85709635 0.86748145 0.86383839 0.86636335 0.84957578\n",
      " 0.85005225 0.86072173 0.87465886 0.88479411 0.89778795 0.89629354\n",
      " 0.9031279  0.90283388 0.89789981 0.9120849  0.90136588 0.89285159\n",
      " 0.88956896 0.87261226 0.89162778 0.89100312 0.9002051  0.90058935\n",
      " 0.90418525 0.90990111 0.90895117 0.90744832 0.89644144 0.90084882\n",
      " 0.91298373 0.91518102 0.90515882 0.91060519 0.91986405 0.9210025\n",
      " 0.9268482  0.92785313 0.93684468 0.91552407 0.92244896 0.92715591\n",
      " 0.92473955 0.90863482 0.91016079 0.90884247 0.90448622 0.92091207\n",
      " 0.92127368 0.91878536 0.92609677 0.93266561 0.92445774 0.92105183\n",
      " 0.90042596 0.89280097 0.89113256 0.86280348 0.88402344 0.89909157\n",
      " 0.89887785 0.90128459 0.9172714  0.9243014  0.93957034 0.94730502\n",
      " 0.95502302 0.96332786 0.91714793 0.83252656 0.76292264 0.72983789\n",
      " 0.72314531 0.72496527 0.72369719 0.71577382 0.70254999 0.68700606\n",
      " 0.67172801 0.65816057 0.64668107 0.63701326 0.62864238 0.62108707\n",
      " 0.61401457 0.60725111 0.60073978 0.59448755]\n",
      "20 day output [[0.58852106]]\n",
      "21 day input [0.82107091 0.83426217 0.819995   0.81931197 0.82767657 0.82234654\n",
      " 0.82118476 0.83385609 0.84476391 0.84928008 0.86111819 0.86587617\n",
      " 0.85709635 0.86748145 0.86383839 0.86636335 0.84957578 0.85005225\n",
      " 0.86072173 0.87465886 0.88479411 0.89778795 0.89629354 0.9031279\n",
      " 0.90283388 0.89789981 0.9120849  0.90136588 0.89285159 0.88956896\n",
      " 0.87261226 0.89162778 0.89100312 0.9002051  0.90058935 0.90418525\n",
      " 0.90990111 0.90895117 0.90744832 0.89644144 0.90084882 0.91298373\n",
      " 0.91518102 0.90515882 0.91060519 0.91986405 0.9210025  0.9268482\n",
      " 0.92785313 0.93684468 0.91552407 0.92244896 0.92715591 0.92473955\n",
      " 0.90863482 0.91016079 0.90884247 0.90448622 0.92091207 0.92127368\n",
      " 0.91878536 0.92609677 0.93266561 0.92445774 0.92105183 0.90042596\n",
      " 0.89280097 0.89113256 0.86280348 0.88402344 0.89909157 0.89887785\n",
      " 0.90128459 0.9172714  0.9243014  0.93957034 0.94730502 0.95502302\n",
      " 0.96332786 0.91714793 0.83252656 0.76292264 0.72983789 0.72314531\n",
      " 0.72496527 0.72369719 0.71577382 0.70254999 0.68700606 0.67172801\n",
      " 0.65816057 0.64668107 0.63701326 0.62864238 0.62108707 0.61401457\n",
      " 0.60725111 0.60073978 0.59448755 0.58852106]\n",
      "21 day output [[0.582861]]\n",
      "22 day input [0.83426217 0.819995   0.81931197 0.82767657 0.82234654 0.82118476\n",
      " 0.83385609 0.84476391 0.84928008 0.86111819 0.86587617 0.85709635\n",
      " 0.86748145 0.86383839 0.86636335 0.84957578 0.85005225 0.86072173\n",
      " 0.87465886 0.88479411 0.89778795 0.89629354 0.9031279  0.90283388\n",
      " 0.89789981 0.9120849  0.90136588 0.89285159 0.88956896 0.87261226\n",
      " 0.89162778 0.89100312 0.9002051  0.90058935 0.90418525 0.90990111\n",
      " 0.90895117 0.90744832 0.89644144 0.90084882 0.91298373 0.91518102\n",
      " 0.90515882 0.91060519 0.91986405 0.9210025  0.9268482  0.92785313\n",
      " 0.93684468 0.91552407 0.92244896 0.92715591 0.92473955 0.90863482\n",
      " 0.91016079 0.90884247 0.90448622 0.92091207 0.92127368 0.91878536\n",
      " 0.92609677 0.93266561 0.92445774 0.92105183 0.90042596 0.89280097\n",
      " 0.89113256 0.86280348 0.88402344 0.89909157 0.89887785 0.90128459\n",
      " 0.9172714  0.9243014  0.93957034 0.94730502 0.95502302 0.96332786\n",
      " 0.91714793 0.83252656 0.76292264 0.72983789 0.72314531 0.72496527\n",
      " 0.72369719 0.71577382 0.70254999 0.68700606 0.67172801 0.65816057\n",
      " 0.64668107 0.63701326 0.62864238 0.62108707 0.61401457 0.60725111\n",
      " 0.60073978 0.59448755 0.58852106 0.58286101]\n",
      "22 day output [[0.5775109]]\n",
      "23 day input [0.819995   0.81931197 0.82767657 0.82234654 0.82118476 0.83385609\n",
      " 0.84476391 0.84928008 0.86111819 0.86587617 0.85709635 0.86748145\n",
      " 0.86383839 0.86636335 0.84957578 0.85005225 0.86072173 0.87465886\n",
      " 0.88479411 0.89778795 0.89629354 0.9031279  0.90283388 0.89789981\n",
      " 0.9120849  0.90136588 0.89285159 0.88956896 0.87261226 0.89162778\n",
      " 0.89100312 0.9002051  0.90058935 0.90418525 0.90990111 0.90895117\n",
      " 0.90744832 0.89644144 0.90084882 0.91298373 0.91518102 0.90515882\n",
      " 0.91060519 0.91986405 0.9210025  0.9268482  0.92785313 0.93684468\n",
      " 0.91552407 0.92244896 0.92715591 0.92473955 0.90863482 0.91016079\n",
      " 0.90884247 0.90448622 0.92091207 0.92127368 0.91878536 0.92609677\n",
      " 0.93266561 0.92445774 0.92105183 0.90042596 0.89280097 0.89113256\n",
      " 0.86280348 0.88402344 0.89909157 0.89887785 0.90128459 0.9172714\n",
      " 0.9243014  0.93957034 0.94730502 0.95502302 0.96332786 0.91714793\n",
      " 0.83252656 0.76292264 0.72983789 0.72314531 0.72496527 0.72369719\n",
      " 0.71577382 0.70254999 0.68700606 0.67172801 0.65816057 0.64668107\n",
      " 0.63701326 0.62864238 0.62108707 0.61401457 0.60725111 0.60073978\n",
      " 0.59448755 0.58852106 0.58286101 0.57751089]\n",
      "23 day output [[0.57245725]]\n",
      "24 day input [0.81931197 0.82767657 0.82234654 0.82118476 0.83385609 0.84476391\n",
      " 0.84928008 0.86111819 0.86587617 0.85709635 0.86748145 0.86383839\n",
      " 0.86636335 0.84957578 0.85005225 0.86072173 0.87465886 0.88479411\n",
      " 0.89778795 0.89629354 0.9031279  0.90283388 0.89789981 0.9120849\n",
      " 0.90136588 0.89285159 0.88956896 0.87261226 0.89162778 0.89100312\n",
      " 0.9002051  0.90058935 0.90418525 0.90990111 0.90895117 0.90744832\n",
      " 0.89644144 0.90084882 0.91298373 0.91518102 0.90515882 0.91060519\n",
      " 0.91986405 0.9210025  0.9268482  0.92785313 0.93684468 0.91552407\n",
      " 0.92244896 0.92715591 0.92473955 0.90863482 0.91016079 0.90884247\n",
      " 0.90448622 0.92091207 0.92127368 0.91878536 0.92609677 0.93266561\n",
      " 0.92445774 0.92105183 0.90042596 0.89280097 0.89113256 0.86280348\n",
      " 0.88402344 0.89909157 0.89887785 0.90128459 0.9172714  0.9243014\n",
      " 0.93957034 0.94730502 0.95502302 0.96332786 0.91714793 0.83252656\n",
      " 0.76292264 0.72983789 0.72314531 0.72496527 0.72369719 0.71577382\n",
      " 0.70254999 0.68700606 0.67172801 0.65816057 0.64668107 0.63701326\n",
      " 0.62864238 0.62108707 0.61401457 0.60725111 0.60073978 0.59448755\n",
      " 0.58852106 0.58286101 0.57751089 0.57245725]\n",
      "24 day output [[0.56767565]]\n",
      "25 day input [0.82767657 0.82234654 0.82118476 0.83385609 0.84476391 0.84928008\n",
      " 0.86111819 0.86587617 0.85709635 0.86748145 0.86383839 0.86636335\n",
      " 0.84957578 0.85005225 0.86072173 0.87465886 0.88479411 0.89778795\n",
      " 0.89629354 0.9031279  0.90283388 0.89789981 0.9120849  0.90136588\n",
      " 0.89285159 0.88956896 0.87261226 0.89162778 0.89100312 0.9002051\n",
      " 0.90058935 0.90418525 0.90990111 0.90895117 0.90744832 0.89644144\n",
      " 0.90084882 0.91298373 0.91518102 0.90515882 0.91060519 0.91986405\n",
      " 0.9210025  0.9268482  0.92785313 0.93684468 0.91552407 0.92244896\n",
      " 0.92715591 0.92473955 0.90863482 0.91016079 0.90884247 0.90448622\n",
      " 0.92091207 0.92127368 0.91878536 0.92609677 0.93266561 0.92445774\n",
      " 0.92105183 0.90042596 0.89280097 0.89113256 0.86280348 0.88402344\n",
      " 0.89909157 0.89887785 0.90128459 0.9172714  0.9243014  0.93957034\n",
      " 0.94730502 0.95502302 0.96332786 0.91714793 0.83252656 0.76292264\n",
      " 0.72983789 0.72314531 0.72496527 0.72369719 0.71577382 0.70254999\n",
      " 0.68700606 0.67172801 0.65816057 0.64668107 0.63701326 0.62864238\n",
      " 0.62108707 0.61401457 0.60725111 0.60073978 0.59448755 0.58852106\n",
      " 0.58286101 0.57751089 0.57245725 0.56767565]\n",
      "25 day output [[0.5631373]]\n",
      "26 day input [0.82234654 0.82118476 0.83385609 0.84476391 0.84928008 0.86111819\n",
      " 0.86587617 0.85709635 0.86748145 0.86383839 0.86636335 0.84957578\n",
      " 0.85005225 0.86072173 0.87465886 0.88479411 0.89778795 0.89629354\n",
      " 0.9031279  0.90283388 0.89789981 0.9120849  0.90136588 0.89285159\n",
      " 0.88956896 0.87261226 0.89162778 0.89100312 0.9002051  0.90058935\n",
      " 0.90418525 0.90990111 0.90895117 0.90744832 0.89644144 0.90084882\n",
      " 0.91298373 0.91518102 0.90515882 0.91060519 0.91986405 0.9210025\n",
      " 0.9268482  0.92785313 0.93684468 0.91552407 0.92244896 0.92715591\n",
      " 0.92473955 0.90863482 0.91016079 0.90884247 0.90448622 0.92091207\n",
      " 0.92127368 0.91878536 0.92609677 0.93266561 0.92445774 0.92105183\n",
      " 0.90042596 0.89280097 0.89113256 0.86280348 0.88402344 0.89909157\n",
      " 0.89887785 0.90128459 0.9172714  0.9243014  0.93957034 0.94730502\n",
      " 0.95502302 0.96332786 0.91714793 0.83252656 0.76292264 0.72983789\n",
      " 0.72314531 0.72496527 0.72369719 0.71577382 0.70254999 0.68700606\n",
      " 0.67172801 0.65816057 0.64668107 0.63701326 0.62864238 0.62108707\n",
      " 0.61401457 0.60725111 0.60073978 0.59448755 0.58852106 0.58286101\n",
      " 0.57751089 0.57245725 0.56767565 0.56313729]\n",
      "26 day output [[0.55881387]]\n",
      "27 day input [0.82118476 0.83385609 0.84476391 0.84928008 0.86111819 0.86587617\n",
      " 0.85709635 0.86748145 0.86383839 0.86636335 0.84957578 0.85005225\n",
      " 0.86072173 0.87465886 0.88479411 0.89778795 0.89629354 0.9031279\n",
      " 0.90283388 0.89789981 0.9120849  0.90136588 0.89285159 0.88956896\n",
      " 0.87261226 0.89162778 0.89100312 0.9002051  0.90058935 0.90418525\n",
      " 0.90990111 0.90895117 0.90744832 0.89644144 0.90084882 0.91298373\n",
      " 0.91518102 0.90515882 0.91060519 0.91986405 0.9210025  0.9268482\n",
      " 0.92785313 0.93684468 0.91552407 0.92244896 0.92715591 0.92473955\n",
      " 0.90863482 0.91016079 0.90884247 0.90448622 0.92091207 0.92127368\n",
      " 0.91878536 0.92609677 0.93266561 0.92445774 0.92105183 0.90042596\n",
      " 0.89280097 0.89113256 0.86280348 0.88402344 0.89909157 0.89887785\n",
      " 0.90128459 0.9172714  0.9243014  0.93957034 0.94730502 0.95502302\n",
      " 0.96332786 0.91714793 0.83252656 0.76292264 0.72983789 0.72314531\n",
      " 0.72496527 0.72369719 0.71577382 0.70254999 0.68700606 0.67172801\n",
      " 0.65816057 0.64668107 0.63701326 0.62864238 0.62108707 0.61401457\n",
      " 0.60725111 0.60073978 0.59448755 0.58852106 0.58286101 0.57751089\n",
      " 0.57245725 0.56767565 0.56313729 0.55881387]\n",
      "27 day output [[0.55468065]]\n",
      "28 day input [0.83385609 0.84476391 0.84928008 0.86111819 0.86587617 0.85709635\n",
      " 0.86748145 0.86383839 0.86636335 0.84957578 0.85005225 0.86072173\n",
      " 0.87465886 0.88479411 0.89778795 0.89629354 0.9031279  0.90283388\n",
      " 0.89789981 0.9120849  0.90136588 0.89285159 0.88956896 0.87261226\n",
      " 0.89162778 0.89100312 0.9002051  0.90058935 0.90418525 0.90990111\n",
      " 0.90895117 0.90744832 0.89644144 0.90084882 0.91298373 0.91518102\n",
      " 0.90515882 0.91060519 0.91986405 0.9210025  0.9268482  0.92785313\n",
      " 0.93684468 0.91552407 0.92244896 0.92715591 0.92473955 0.90863482\n",
      " 0.91016079 0.90884247 0.90448622 0.92091207 0.92127368 0.91878536\n",
      " 0.92609677 0.93266561 0.92445774 0.92105183 0.90042596 0.89280097\n",
      " 0.89113256 0.86280348 0.88402344 0.89909157 0.89887785 0.90128459\n",
      " 0.9172714  0.9243014  0.93957034 0.94730502 0.95502302 0.96332786\n",
      " 0.91714793 0.83252656 0.76292264 0.72983789 0.72314531 0.72496527\n",
      " 0.72369719 0.71577382 0.70254999 0.68700606 0.67172801 0.65816057\n",
      " 0.64668107 0.63701326 0.62864238 0.62108707 0.61401457 0.60725111\n",
      " 0.60073978 0.59448755 0.58852106 0.58286101 0.57751089 0.57245725\n",
      " 0.56767565 0.56313729 0.55881387 0.55468065]\n",
      "28 day output [[0.55071795]]\n",
      "29 day input [0.84476391 0.84928008 0.86111819 0.86587617 0.85709635 0.86748145\n",
      " 0.86383839 0.86636335 0.84957578 0.85005225 0.86072173 0.87465886\n",
      " 0.88479411 0.89778795 0.89629354 0.9031279  0.90283388 0.89789981\n",
      " 0.9120849  0.90136588 0.89285159 0.88956896 0.87261226 0.89162778\n",
      " 0.89100312 0.9002051  0.90058935 0.90418525 0.90990111 0.90895117\n",
      " 0.90744832 0.89644144 0.90084882 0.91298373 0.91518102 0.90515882\n",
      " 0.91060519 0.91986405 0.9210025  0.9268482  0.92785313 0.93684468\n",
      " 0.91552407 0.92244896 0.92715591 0.92473955 0.90863482 0.91016079\n",
      " 0.90884247 0.90448622 0.92091207 0.92127368 0.91878536 0.92609677\n",
      " 0.93266561 0.92445774 0.92105183 0.90042596 0.89280097 0.89113256\n",
      " 0.86280348 0.88402344 0.89909157 0.89887785 0.90128459 0.9172714\n",
      " 0.9243014  0.93957034 0.94730502 0.95502302 0.96332786 0.91714793\n",
      " 0.83252656 0.76292264 0.72983789 0.72314531 0.72496527 0.72369719\n",
      " 0.71577382 0.70254999 0.68700606 0.67172801 0.65816057 0.64668107\n",
      " 0.63701326 0.62864238 0.62108707 0.61401457 0.60725111 0.60073978\n",
      " 0.59448755 0.58852106 0.58286101 0.57751089 0.57245725 0.56767565\n",
      " 0.56313729 0.55881387 0.55468065 0.55071795]\n",
      "29 day output [[0.5469107]]\n",
      "[[0.9171479344367981], [0.8325265645980835], [0.7629226446151733], [0.7298378944396973], [0.7231453061103821], [0.7249652743339539], [0.7236971855163574], [0.7157738208770752], [0.7025499939918518], [0.6870060563087463], [0.6717280149459839], [0.6581605672836304], [0.6466810703277588], [0.6370132565498352], [0.6286423802375793], [0.6210870742797852], [0.6140145659446716], [0.6072511076927185], [0.6007397770881653], [0.5944875478744507], [0.5885210633277893], [0.5828610062599182], [0.5775108933448792], [0.5724572539329529], [0.5676756501197815], [0.5631372928619385], [0.5588138699531555], [0.5546806454658508], [0.5507179498672485], [0.5469107031822205]]\n"
     ]
    }
   ],
   "source": [
    "from numpy import array\n",
    "\n",
    "lst_output=[]\n",
    "n_steps=100\n",
    "i=0\n",
    "while(i<30):\n",
    "    \n",
    "    if(len(temp_input)>100):\n",
    "        #print(temp_input)\n",
    "        x_input=np.array(temp_input[1:])\n",
    "        print(\"{} day input {}\".format(i,x_input))\n",
    "        x_input=x_input.reshape(1,-1)\n",
    "        x_input = x_input.reshape((1, n_steps, 1))\n",
    "        #print(x_input)\n",
    "        yhat = model.predict(x_input, verbose=0)\n",
    "        print(\"{} day output {}\".format(i,yhat))\n",
    "        temp_input.extend(yhat[0].tolist())\n",
    "        temp_input=temp_input[1:]\n",
    "        #print(temp_input)\n",
    "        lst_output.extend(yhat.tolist())\n",
    "        i=i+1\n",
    "    else:\n",
    "        x_input = x_input.reshape((1, n_steps,1))\n",
    "        yhat = model.predict(x_input, verbose=0)\n",
    "        print(yhat[0])\n",
    "        temp_input.extend(yhat[0].tolist())\n",
    "        print(len(temp_input))\n",
    "        lst_output.extend(yhat.tolist())\n",
    "        i=i+1\n",
    "    \n",
    "\n",
    "print(lst_output)"
   ]
  },
  {
   "cell_type": "code",
   "execution_count": null,
   "metadata": {
    "id": "W7LWQQSYE_SX"
   },
   "outputs": [],
   "source": [
    "day_new=np.arange(1,101)\n",
    "day_pred=np.arange(101,131)"
   ]
  },
  {
   "cell_type": "code",
   "execution_count": null,
   "metadata": {
    "colab": {
     "base_uri": "https://localhost:8080/"
    },
    "id": "IY9yr9m8Fpas",
    "outputId": "c80dcd14-cf3b-4564-a3e9-993b5beffd47"
   },
   "outputs": [
    {
     "data": {
      "text/plain": [
       "5660"
      ]
     },
     "execution_count": 35,
     "metadata": {
      "tags": []
     },
     "output_type": "execute_result"
    }
   ],
   "source": [
    "len(df1)"
   ]
  },
  {
   "cell_type": "code",
   "execution_count": null,
   "metadata": {
    "colab": {
     "base_uri": "https://localhost:8080/",
     "height": 282
    },
    "id": "na9bUCh6FqTW",
    "outputId": "b4f8a8a6-df29-4930-b526-1e86e031533b"
   },
   "outputs": [
    {
     "data": {
      "text/plain": [
       "[<matplotlib.lines.Line2D at 0x7fcf83dca898>]"
      ]
     },
     "execution_count": 36,
     "metadata": {
      "tags": []
     },
     "output_type": "execute_result"
    },
    {
     "data": {
      "image/png": "[encoded data removed]",
      "text/plain": [
       "<Figure size 432x288 with 1 Axes>"
      ]
     },
     "metadata": {
      "needs_background": "light",
      "tags": []
     },
     "output_type": "display_data"
    }
   ],
   "source": [
    "plt.plot(day_new,scaler.inverse_transform(df1[5560:]))\n",
    "plt.plot(day_pred,scaler.inverse_transform(lst_output))"
   ]
  },
  {
   "cell_type": "code",
   "execution_count": null,
   "metadata": {
    "colab": {
     "base_uri": "https://localhost:8080/",
     "height": 282
    },
    "id": "YEdUwCgjFuVx",
    "outputId": "1304b92f-e9ae-46ac-a35a-96d733597aca"
   },
   "outputs": [
    {
     "data": {
      "text/plain": [
       "[<matplotlib.lines.Line2D at 0x7fcf83c92780>]"
      ]
     },
     "execution_count": 37,
     "metadata": {
      "tags": []
     },
     "output_type": "execute_result"
    },
    {
     "data": {
      "image/png": "[encoded data removed]",
      "text/plain": [
       "<Figure size 432x288 with 1 Axes>"
      ]
     },
     "metadata": {
      "needs_background": "light",
      "tags": []
     },
     "output_type": "display_data"
    }
   ],
   "source": [
    "df3=df1.tolist()\n",
    "df3.extend(lst_output)\n",
    "plt.plot(df3[1500:])"
   ]
  },
  {
   "cell_type": "code",
   "execution_count": null,
   "metadata": {
    "id": "TFJesEy5L54e"
   },
   "outputs": [],
   "source": []
  }
 ],
 "metadata": {
  "colab": {
   "name": "TASK 7.ipynb",
   "provenance": []
  },
  "kernelspec": {
   "display_name": "Python 3",
   "language": "python",
   "name": "python3"
  },
  "language_info": {
   "codemirror_mode": {
    "name": "ipython",
    "version": 3
   },
   "file_extension": ".py",
   "mimetype": "text/x-python",
   "name": "python",
   "nbconvert_exporter": "python",
   "pygments_lexer": "ipython3",
   "version": "3.7.6"
  }
 },
 "nbformat": 4,
 "nbformat_minor": 1
}
